{
  "nbformat": 4,
  "nbformat_minor": 0,
  "metadata": {
    "colab": {
      "name": "world.ipynb",
      "provenance": [],
      "collapsed_sections": [],
      "authorship_tag": "ABX9TyNSxMaX31f/OkOEXgnHQUuw",
      "include_colab_link": true
    },
    "kernelspec": {
      "name": "python3",
      "display_name": "Python 3"
    }
  },
  "cells": [
    {
      "cell_type": "markdown",
      "metadata": {
        "id": "view-in-github",
        "colab_type": "text"
      },
      "source": [
        "<a href=\"https://colab.research.google.com/github/mmsamiei/world/blob/main/world.ipynb\" target=\"_parent\"><img src=\"https://colab.research.google.com/assets/colab-badge.svg\" alt=\"Open In Colab\"/></a>"
      ]
    },
    {
      "cell_type": "code",
      "metadata": {
        "colab": {
          "base_uri": "https://localhost:8080/"
        },
        "id": "EdntBCMXDWaL",
        "outputId": "58805e90-3799-4347-d7e4-4f5167f0ec8e"
      },
      "source": [
        "!pip install Faker"
      ],
      "execution_count": 1,
      "outputs": [
        {
          "output_type": "stream",
          "text": [
            "Requirement already satisfied: Faker in /usr/local/lib/python3.7/dist-packages (6.5.0)\n",
            "Requirement already satisfied: text-unidecode==1.3 in /usr/local/lib/python3.7/dist-packages (from Faker) (1.3)\n",
            "Requirement already satisfied: python-dateutil>=2.4 in /usr/local/lib/python3.7/dist-packages (from Faker) (2.8.1)\n",
            "Requirement already satisfied: six>=1.5 in /usr/local/lib/python3.7/dist-packages (from python-dateutil>=2.4->Faker) (1.15.0)\n"
          ],
          "name": "stdout"
        }
      ]
    },
    {
      "cell_type": "code",
      "metadata": {
        "id": "_8sqc25vDe6u"
      },
      "source": [
        "from faker import Faker\n",
        "import random\n",
        "import datetime\n",
        "from itertools import filterfalse"
      ],
      "execution_count": 2,
      "outputs": []
    },
    {
      "cell_type": "code",
      "metadata": {
        "id": "_UREUpflsBrf"
      },
      "source": [
        "fake = Faker()"
      ],
      "execution_count": 3,
      "outputs": []
    },
    {
      "cell_type": "code",
      "metadata": {
        "id": "yf3C_Ayta9qc"
      },
      "source": [
        "class Location:\n",
        "\n",
        "  def __init__(self, map_size=100):\n",
        "    self.x =  random.uniform(-map_size, map_size)\n",
        "    self.y = random.uniform(-map_size, map_size)\n",
        "\n",
        "  def distance(self, other_location):\n",
        "    dx = other_location.x - self.x\n",
        "    dy = other_location.y - self.y\n",
        "    return (dx**2+dy**2)**0.5"
      ],
      "execution_count": 4,
      "outputs": []
    },
    {
      "cell_type": "code",
      "metadata": {
        "id": "DvRbAeNBBbhY"
      },
      "source": [
        "class Person:\n",
        "  \n",
        "  def __init__(self, world):\n",
        "\n",
        "    self.world = world\n",
        "    self.gender = random.choices(['M', 'F'])\n",
        "    self.first_name = fake.first_name_female() if self.gender == 'F' else fake.first_name_male()\n",
        "    self.last_name = fake.last_name()\n",
        "    self.birthday = self.world.date\n",
        "    self.deathday = None\n",
        "    self.location = Location()\n",
        "    self.velocity = 10\n",
        "    self.energy = 100\n",
        "  \n",
        "  def choose_action(self):\n",
        "    \n",
        "    for food in self.world.foods:\n",
        "      if self.location.distance(food.location) < 5:\n",
        "        return 'eat', (self, food)\n",
        "\n",
        "    move_dir_x = random.uniform(-self.velocity, self.velocity)\n",
        "    move_dir_y = random.uniform(-self.velocity, self.velocity)\n",
        "    return 'move', (self, move_dir_x, move_dir_y)"
      ],
      "execution_count": 5,
      "outputs": []
    },
    {
      "cell_type": "code",
      "metadata": {
        "id": "r1ZkuJmygRqy"
      },
      "source": [
        "class Food:\n",
        "\n",
        "  def __init__(self, world):\n",
        "    self.world = world\n",
        "    self.location = Location()\n",
        "    self.produce_date = self.world.date"
      ],
      "execution_count": 6,
      "outputs": []
    },
    {
      "cell_type": "code",
      "metadata": {
        "id": "Pt_v8w9kGMgQ"
      },
      "source": [
        "class World:\n",
        "\n",
        "  def __init__(self, name):\n",
        "    self.name = name\n",
        "    self.persons = []\n",
        "    self.dead_persons = []\n",
        "    self.date = datetime.datetime(2018, 6, 1)\n",
        "    self.foods = []\n",
        "    self.hunger_penalty = 20\n",
        "\n",
        "  def simulate_day(self):\n",
        "    self.date += datetime.timedelta(days=1)\n",
        "\n",
        "    new_person = Person(world=self)\n",
        "    self.persons.append(new_person)\n",
        "\n",
        "    for i in range(10):\n",
        "      self.foods.append(Food(self))\n",
        "    self.foods[:] = filterfalse(lambda f: (world.date - f.produce_date).days > 5 , self.foods)\n",
        "\n",
        "    for person in self.persons[:]:\n",
        "      self.simulate_person(person)\n",
        "  \n",
        "\n",
        "  def simulate_person(self, person):\n",
        "    person.energy -= self.hunger_penalty\n",
        "    action, args = person.choose_action()\n",
        "    \n",
        "    if action == 'eat':\n",
        "      food = args[1]\n",
        "      self.foods.remove(food)\n",
        "      person.energy = 100\n",
        "    elif action == 'move':\n",
        "      dx, dy = args[1], args[2]\n",
        "      person.location.x += dx\n",
        "      person.location.y += dy\n",
        "\n",
        "    if person.energy == 0 :\n",
        "      self.persons.remove(person)\n",
        "      self.dead_persons.append(person)\n",
        "      person.deathday = self.date\n",
        "\n",
        "  def simulate(self, until=100):\n",
        "    for i in range(until):\n",
        "      self.simulate_day()\n",
        "      #print(len(self.foods))\n",
        "      print(\"persons \",len(self.persons), len(self.dead_persons))\n"
      ],
      "execution_count": 7,
      "outputs": []
    },
    {
      "cell_type": "code",
      "metadata": {
        "id": "ifC4dJwPzFNT",
        "colab": {
          "base_uri": "https://localhost:8080/"
        },
        "outputId": "12858f30-6851-4332-fb59-abc09ac68cc2"
      },
      "source": [
        "world = World('mahdi_world')\n",
        "world.simulate()"
      ],
      "execution_count": 8,
      "outputs": [
        {
          "output_type": "stream",
          "text": [
            "persons  1 0\n",
            "persons  2 0\n",
            "persons  3 0\n",
            "persons  4 0\n",
            "persons  5 0\n",
            "persons  4 2\n",
            "persons  4 3\n",
            "persons  4 4\n",
            "persons  4 5\n",
            "persons  4 6\n",
            "persons  5 6\n",
            "persons  5 7\n",
            "persons  5 8\n",
            "persons  4 10\n",
            "persons  5 10\n",
            "persons  5 11\n",
            "persons  5 12\n",
            "persons  4 14\n",
            "persons  4 15\n",
            "persons  4 16\n",
            "persons  4 17\n",
            "persons  4 18\n",
            "persons  4 19\n",
            "persons  5 19\n",
            "persons  6 19\n",
            "persons  6 20\n",
            "persons  6 21\n",
            "persons  5 23\n",
            "persons  5 24\n",
            "persons  5 25\n",
            "persons  6 25\n",
            "persons  7 25\n",
            "persons  7 26\n",
            "persons  7 27\n",
            "persons  6 29\n",
            "persons  5 31\n",
            "persons  4 33\n",
            "persons  5 33\n",
            "persons  6 33\n",
            "persons  5 35\n",
            "persons  6 35\n",
            "persons  7 35\n",
            "persons  7 36\n",
            "persons  7 37\n",
            "persons  7 38\n",
            "persons  7 39\n",
            "persons  6 41\n",
            "persons  6 42\n",
            "persons  7 42\n",
            "persons  6 44\n",
            "persons  6 45\n",
            "persons  6 46\n",
            "persons  6 47\n",
            "persons  6 48\n",
            "persons  7 48\n",
            "persons  6 50\n",
            "persons  5 52\n",
            "persons  5 53\n",
            "persons  5 54\n",
            "persons  6 54\n",
            "persons  5 56\n",
            "persons  5 57\n",
            "persons  4 59\n",
            "persons  5 59\n",
            "persons  5 60\n",
            "persons  5 61\n",
            "persons  5 62\n",
            "persons  5 63\n",
            "persons  5 64\n",
            "persons  5 65\n",
            "persons  4 67\n",
            "persons  4 68\n",
            "persons  5 68\n",
            "persons  4 70\n",
            "persons  4 71\n",
            "persons  5 71\n",
            "persons  5 72\n",
            "persons  5 73\n",
            "persons  5 74\n",
            "persons  5 75\n",
            "persons  6 75\n",
            "persons  6 76\n",
            "persons  6 77\n",
            "persons  6 78\n",
            "persons  6 79\n",
            "persons  6 80\n",
            "persons  7 80\n",
            "persons  6 82\n",
            "persons  5 84\n",
            "persons  5 85\n",
            "persons  6 85\n",
            "persons  6 86\n",
            "persons  5 88\n",
            "persons  5 89\n",
            "persons  4 91\n",
            "persons  5 91\n",
            "persons  6 91\n",
            "persons  6 92\n",
            "persons  5 94\n",
            "persons  5 95\n"
          ],
          "name": "stdout"
        }
      ]
    }
  ]
}
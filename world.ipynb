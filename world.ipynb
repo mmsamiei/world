{
  "nbformat": 4,
  "nbformat_minor": 0,
  "metadata": {
    "colab": {
      "name": "world.ipynb",
      "provenance": [],
      "collapsed_sections": [],
      "authorship_tag": "ABX9TyMWSuZam09ITQGHZX/AScBf",
      "include_colab_link": true
    },
    "kernelspec": {
      "name": "python3",
      "display_name": "Python 3"
    }
  },
  "cells": [
    {
      "cell_type": "markdown",
      "metadata": {
        "id": "view-in-github",
        "colab_type": "text"
      },
      "source": [
        "<a href=\"https://colab.research.google.com/github/mmsamiei/world/blob/main/world.ipynb\" target=\"_parent\"><img src=\"https://colab.research.google.com/assets/colab-badge.svg\" alt=\"Open In Colab\"/></a>"
      ]
    },
    {
      "cell_type": "code",
      "metadata": {
        "colab": {
          "base_uri": "https://localhost:8080/"
        },
        "id": "EdntBCMXDWaL",
        "outputId": "d5aff4df-bbb8-40cb-ad44-333702e869f3"
      },
      "source": [
        "!pip install Faker"
      ],
      "execution_count": 1,
      "outputs": [
        {
          "output_type": "stream",
          "text": [
            "Requirement already satisfied: Faker in /usr/local/lib/python3.7/dist-packages (6.5.0)\n",
            "Requirement already satisfied: text-unidecode==1.3 in /usr/local/lib/python3.7/dist-packages (from Faker) (1.3)\n",
            "Requirement already satisfied: python-dateutil>=2.4 in /usr/local/lib/python3.7/dist-packages (from Faker) (2.8.1)\n",
            "Requirement already satisfied: six>=1.5 in /usr/local/lib/python3.7/dist-packages (from python-dateutil>=2.4->Faker) (1.15.0)\n"
          ],
          "name": "stdout"
        }
      ]
    },
    {
      "cell_type": "code",
      "metadata": {
        "id": "_8sqc25vDe6u"
      },
      "source": [
        "from faker import Faker\n",
        "import random\n",
        "import datetime\n",
        "from itertools import filterfalse"
      ],
      "execution_count": 2,
      "outputs": []
    },
    {
      "cell_type": "code",
      "metadata": {
        "id": "_UREUpflsBrf"
      },
      "source": [
        "fake = Faker()"
      ],
      "execution_count": 3,
      "outputs": []
    },
    {
      "cell_type": "code",
      "metadata": {
        "id": "yf3C_Ayta9qc"
      },
      "source": [
        "class Location:\n",
        "\n",
        "  def __init__(self, map_size=100):\n",
        "    self.x =  random.uniform(-map_size, map_size)\n",
        "    self.y = random.uniform(-map_size, map_size)\n",
        "\n",
        "  def distance(self, other_location):\n",
        "    dx = other_location.x - self.x\n",
        "    dy = other_location.y - self.y\n",
        "    return (dx**2+dy**2)**0.5"
      ],
      "execution_count": 4,
      "outputs": []
    },
    {
      "cell_type": "code",
      "metadata": {
        "id": "DvRbAeNBBbhY"
      },
      "source": [
        "class Person:\n",
        "  \n",
        "  def __init__(self, world):\n",
        "\n",
        "    self.world = world\n",
        "    self.gender = random.choices(['M', 'F'])\n",
        "    self.first_name = fake.first_name_female() if self.gender == 'F' else fake.first_name_male()\n",
        "    self.last_name = fake.last_name()\n",
        "    self.birthday = self.world.date\n",
        "    self.deathday = None\n",
        "    self.location = Location()\n",
        "    self.velocity = 10\n",
        "    self.energy = 100\n",
        "\n",
        "  def move(self):\n",
        "    move_dir_x = random.uniform(-self.velocity, self.velocity)\n",
        "    move_dir_y = random.uniform(-self.velocity, self.velocity)\n",
        "    \n",
        "    self.location.x += move_dir_x\n",
        "    self.location.y += move_dir_y\n",
        "\n",
        "  def simulate_day(self):\n",
        "    self.move()\n",
        "    for food in self.world.foods:\n",
        "      if self.location.distance(food.location) < 5:\n",
        "        self.world.eat_person_food(self, food)\n",
        "        break"
      ],
      "execution_count": 72,
      "outputs": []
    },
    {
      "cell_type": "code",
      "metadata": {
        "id": "r1ZkuJmygRqy"
      },
      "source": [
        "class Food:\n",
        "\n",
        "  def __init__(self, world):\n",
        "    self.world = world\n",
        "    self.location = Location()\n",
        "    self.produce_date = self.world.date"
      ],
      "execution_count": 73,
      "outputs": []
    },
    {
      "cell_type": "code",
      "metadata": {
        "id": "Pt_v8w9kGMgQ"
      },
      "source": [
        "class World:\n",
        "\n",
        "  def __init__(self, name):\n",
        "    self.name = name\n",
        "    self.persons = []\n",
        "    self.dead_persons = []\n",
        "    self.date = datetime.datetime(2018, 6, 1)\n",
        "    self.foods = []\n",
        "\n",
        "  def eat_person_food(self, person, food):\n",
        "    if food in self.foods:\n",
        "      self.foods.remove(food)\n",
        "      person.energy = 100\n",
        "\n",
        "  def simulate_day(self):\n",
        "    self.date += datetime.timedelta(days=1)\n",
        "\n",
        "    new_person = Person(world=self)\n",
        "    self.persons.append(new_person)\n",
        "\n",
        "    for i in range(10):\n",
        "      self.foods.append(Food(self))\n",
        "    self.foods[:] = filterfalse(lambda f: (world.date - f.produce_date).days > 5 , self.foods)\n",
        "\n",
        "    for person in self.persons[:]:\n",
        "      person.energy -= 20\n",
        "      person.simulate_day()\n",
        "      if person.energy == 0 :\n",
        "        self.persons.remove(person)\n",
        "        self.dead_persons.append(person)\n",
        "        person.deathday = self.date\n",
        "  \n",
        "  def simulate(self, until=30):\n",
        "    for i in range(until):\n",
        "      self.simulate_day()\n",
        "      #print(len(self.foods))\n",
        "      print(\"persons \",len(self.dead_persons))\n"
      ],
      "execution_count": 74,
      "outputs": []
    },
    {
      "cell_type": "code",
      "metadata": {
        "id": "ifC4dJwPzFNT",
        "colab": {
          "base_uri": "https://localhost:8080/"
        },
        "outputId": "76ef2590-8de9-4752-e0fd-1b3311db841c"
      },
      "source": [
        "world = World('mahdi_world')\n",
        "world.simulate()"
      ],
      "execution_count": 75,
      "outputs": [
        {
          "output_type": "stream",
          "text": [
            "persons  0\n",
            "persons  0\n",
            "persons  0\n",
            "persons  0\n",
            "persons  0\n",
            "persons  1\n",
            "persons  2\n",
            "persons  2\n",
            "persons  3\n",
            "persons  4\n",
            "persons  6\n",
            "persons  7\n",
            "persons  8\n",
            "persons  8\n",
            "persons  10\n",
            "persons  12\n",
            "persons  13\n",
            "persons  14\n",
            "persons  14\n",
            "persons  15\n",
            "persons  17\n",
            "persons  18\n",
            "persons  19\n",
            "persons  19\n",
            "persons  20\n",
            "persons  21\n",
            "persons  22\n",
            "persons  22\n",
            "persons  23\n",
            "persons  24\n"
          ],
          "name": "stdout"
        }
      ]
    }
  ]
}
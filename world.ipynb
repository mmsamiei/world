{
  "nbformat": 4,
  "nbformat_minor": 0,
  "metadata": {
    "colab": {
      "name": "world.ipynb",
      "provenance": [],
      "collapsed_sections": [],
      "authorship_tag": "ABX9TyMI5TqD6PYL3AhRzhdDg49A",
      "include_colab_link": true
    },
    "kernelspec": {
      "name": "python3",
      "display_name": "Python 3"
    }
  },
  "cells": [
    {
      "cell_type": "markdown",
      "metadata": {
        "id": "view-in-github",
        "colab_type": "text"
      },
      "source": [
        "<a href=\"https://colab.research.google.com/github/mmsamiei/world/blob/main/world.ipynb\" target=\"_parent\"><img src=\"https://colab.research.google.com/assets/colab-badge.svg\" alt=\"Open In Colab\"/></a>"
      ]
    },
    {
      "cell_type": "code",
      "metadata": {
        "colab": {
          "base_uri": "https://localhost:8080/"
        },
        "id": "EdntBCMXDWaL",
        "outputId": "58805e90-3799-4347-d7e4-4f5167f0ec8e"
      },
      "source": [
        "!pip install Faker"
      ],
      "execution_count": 1,
      "outputs": [
        {
          "output_type": "stream",
          "text": [
            "Requirement already satisfied: Faker in /usr/local/lib/python3.7/dist-packages (6.5.0)\n",
            "Requirement already satisfied: text-unidecode==1.3 in /usr/local/lib/python3.7/dist-packages (from Faker) (1.3)\n",
            "Requirement already satisfied: python-dateutil>=2.4 in /usr/local/lib/python3.7/dist-packages (from Faker) (2.8.1)\n",
            "Requirement already satisfied: six>=1.5 in /usr/local/lib/python3.7/dist-packages (from python-dateutil>=2.4->Faker) (1.15.0)\n"
          ],
          "name": "stdout"
        }
      ]
    },
    {
      "cell_type": "code",
      "metadata": {
        "id": "_8sqc25vDe6u"
      },
      "source": [
        "from faker import Faker\n",
        "import random\n",
        "import datetime\n",
        "from itertools import filterfalse"
      ],
      "execution_count": 2,
      "outputs": []
    },
    {
      "cell_type": "code",
      "metadata": {
        "id": "_UREUpflsBrf"
      },
      "source": [
        "fake = Faker()"
      ],
      "execution_count": 3,
      "outputs": []
    },
    {
      "cell_type": "code",
      "metadata": {
        "id": "yf3C_Ayta9qc"
      },
      "source": [
        "class Location:\n",
        "\n",
        "  def __init__(self, map_size=100):\n",
        "    self.x =  random.uniform(-map_size, map_size)\n",
        "    self.y = random.uniform(-map_size, map_size)\n",
        "\n",
        "  def distance(self, other_location):\n",
        "    dx = other_location.x - self.x\n",
        "    dy = other_location.y - self.y\n",
        "    return (dx**2+dy**2)**0.5"
      ],
      "execution_count": 4,
      "outputs": []
    },
    {
      "cell_type": "code",
      "metadata": {
        "id": "DvRbAeNBBbhY"
      },
      "source": [
        "class Person:\n",
        "  \n",
        "  def __init__(self, world):\n",
        "\n",
        "    self.world = world\n",
        "    self.gender = random.choices(['M', 'F'])\n",
        "    self.first_name = fake.first_name_female() if self.gender == 'F' else fake.first_name_male()\n",
        "    self.last_name = fake.last_name()\n",
        "    self.birthday = self.world.date\n",
        "    self.deathday = None\n",
        "    self.location = Location()\n",
        "    self.velocity = 10\n",
        "    self.energy = 100\n",
        "\n",
        "  def __str__(self):\n",
        "    return f\"{self.first_name} {self.last_name} at {self.location.x},{self.location.y} \\t energy: {self.energy}\"\n",
        "  \n",
        "  def choose_action(self):\n",
        "    \n",
        "    for food in self.world.foods:\n",
        "      if self.location.distance(food.location) < self.world.distance_can_eat:\n",
        "        return 'eat', (self, food)\n",
        "\n",
        "    day_to_death = self.energy / self.world.hunger_penalty\n",
        "    dx = 0\n",
        "    dy = 0\n",
        "    for food in self.world.foods:\n",
        "      if self.location.distance(food.location)/self.velocity < day_to_death:\n",
        "        dx = food.location.x - self.location.x\n",
        "        dy = food.location.y - self.location.y\n",
        "        length = (dx**2+dy**2)**0.5\n",
        "        dx_norm = (dx / length) * (self.velocity ** 0.5)\n",
        "        dy_norm = (dy / length) * (self.velocity ** 0.5)\n",
        "        if dx**2 + dy**2 < dx_norm**2 + dy_norm**2:\n",
        "          dir_x, dir_y = dx, dy\n",
        "        else:\n",
        "          dir_x, dir_y= dx_norm, dy_norm\n",
        "        break\n",
        "    return 'move', (self, dx, dy)"
      ],
      "execution_count": 60,
      "outputs": []
    },
    {
      "cell_type": "code",
      "metadata": {
        "id": "r1ZkuJmygRqy"
      },
      "source": [
        "class Food:\n",
        "\n",
        "  def __init__(self, world):\n",
        "    self.world = world\n",
        "    self.location = Location()\n",
        "    self.produce_date = self.world.date"
      ],
      "execution_count": 61,
      "outputs": []
    },
    {
      "cell_type": "code",
      "metadata": {
        "id": "Pt_v8w9kGMgQ"
      },
      "source": [
        "class World:\n",
        "\n",
        "  def __init__(self, name):\n",
        "    self.name = name\n",
        "    self.persons = []\n",
        "    self.dead_persons = []\n",
        "    self.date = datetime.datetime(2018, 6, 1)\n",
        "    self.foods = []\n",
        "    self.hunger_penalty = 20\n",
        "    self.distance_can_eat = 5\n",
        "\n",
        "  def simulate_day(self):\n",
        "    self.date += datetime.timedelta(days=1)\n",
        "\n",
        "    new_person = Person(world=self)\n",
        "    self.persons.append(new_person)\n",
        "\n",
        "    for i in range(10):\n",
        "      self.foods.append(Food(self))\n",
        "    self.foods[:] = filterfalse(lambda f: (world.date - f.produce_date).days > 5 , self.foods)\n",
        "\n",
        "    for person in self.persons[:]:\n",
        "      self.simulate_person(person)\n",
        "  \n",
        "\n",
        "  def simulate_person(self, person):\n",
        "    person.energy -= self.hunger_penalty\n",
        "    action, args = person.choose_action()\n",
        "    \n",
        "    if action == 'eat':\n",
        "      food = args[1]\n",
        "      self.foods.remove(food)\n",
        "      person.energy = 100\n",
        "    elif action == 'move':\n",
        "      dx, dy = args[1], args[2]\n",
        "      person.location.x += dx\n",
        "      person.location.y += dy\n",
        "\n",
        "    if person.energy == 0 :\n",
        "      self.persons.remove(person)\n",
        "      self.dead_persons.append(person)\n",
        "      person.deathday = self.date\n",
        "\n",
        "  def simulate(self, until=100):\n",
        "    for i in range(until):\n",
        "      self.simulate_day()\n",
        "      #print(len(self.foods))\n",
        "      print(\"persons \",len(self.persons), len(self.dead_persons))\n",
        "      \n"
      ],
      "execution_count": 67,
      "outputs": []
    },
    {
      "cell_type": "code",
      "metadata": {
        "id": "ifC4dJwPzFNT",
        "colab": {
          "base_uri": "https://localhost:8080/"
        },
        "outputId": "8fd69316-fffc-43a0-998e-0427ce720e15"
      },
      "source": [
        "world = World('mahdi_world')\n",
        "world.simulate()"
      ],
      "execution_count": 68,
      "outputs": [
        {
          "output_type": "stream",
          "text": [
            "persons  1 0\n",
            "persons  2 0\n",
            "persons  3 0\n",
            "persons  4 0\n",
            "persons  5 0\n",
            "persons  6 0\n",
            "persons  7 0\n",
            "persons  8 0\n",
            "persons  9 0\n",
            "persons  10 0\n",
            "persons  10 1\n",
            "persons  10 2\n",
            "persons  10 3\n",
            "persons  10 4\n",
            "persons  10 5\n",
            "persons  11 5\n",
            "persons  11 6\n",
            "persons  11 7\n",
            "persons  12 7\n",
            "persons  12 8\n",
            "persons  13 8\n",
            "persons  14 8\n",
            "persons  15 8\n",
            "persons  15 9\n",
            "persons  16 9\n",
            "persons  17 9\n",
            "persons  16 11\n",
            "persons  13 15\n",
            "persons  14 15\n",
            "persons  15 15\n",
            "persons  16 15\n",
            "persons  17 15\n",
            "persons  18 15\n",
            "persons  15 19\n",
            "persons  15 20\n",
            "persons  14 22\n",
            "persons  14 23\n",
            "persons  15 23\n",
            "persons  14 25\n",
            "persons  13 27\n",
            "persons  14 27\n",
            "persons  15 27\n",
            "persons  16 27\n",
            "persons  16 28\n",
            "persons  17 28\n",
            "persons  18 28\n",
            "persons  17 30\n",
            "persons  18 30\n",
            "persons  17 32\n",
            "persons  16 34\n",
            "persons  16 35\n",
            "persons  17 35\n",
            "persons  17 36\n",
            "persons  18 36\n",
            "persons  17 38\n",
            "persons  18 38\n",
            "persons  19 38\n",
            "persons  20 38\n",
            "persons  21 38\n",
            "persons  22 38\n",
            "persons  23 38\n",
            "persons  24 38\n",
            "persons  23 40\n",
            "persons  24 40\n",
            "persons  24 41\n",
            "persons  22 44\n",
            "persons  22 45\n",
            "persons  22 46\n",
            "persons  21 48\n",
            "persons  22 48\n",
            "persons  23 48\n",
            "persons  22 50\n",
            "persons  22 51\n",
            "persons  22 52\n",
            "persons  22 53\n",
            "persons  22 54\n",
            "persons  21 56\n",
            "persons  20 58\n",
            "persons  21 58\n",
            "persons  20 60\n",
            "persons  20 61\n",
            "persons  18 64\n",
            "persons  16 67\n",
            "persons  16 68\n",
            "persons  14 71\n",
            "persons  13 73\n",
            "persons  14 73\n",
            "persons  15 73\n",
            "persons  13 76\n",
            "persons  14 76\n",
            "persons  15 76\n",
            "persons  16 76\n",
            "persons  17 76\n",
            "persons  17 77\n",
            "persons  16 79\n",
            "persons  17 79\n",
            "persons  16 81\n",
            "persons  17 81\n",
            "persons  17 82\n",
            "persons  18 82\n"
          ],
          "name": "stdout"
        }
      ]
    }
  ]
}
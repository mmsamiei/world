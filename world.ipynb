{
  "nbformat": 4,
  "nbformat_minor": 0,
  "metadata": {
    "colab": {
      "name": "world.ipynb",
      "provenance": [],
      "collapsed_sections": [],
      "authorship_tag": "ABX9TyPaJqmTSb7WAQBSLzmOxgS6",
      "include_colab_link": true
    },
    "kernelspec": {
      "name": "python3",
      "display_name": "Python 3"
    }
  },
  "cells": [
    {
      "cell_type": "markdown",
      "metadata": {
        "id": "view-in-github",
        "colab_type": "text"
      },
      "source": [
        "<a href=\"https://colab.research.google.com/github/mmsamiei/world/blob/main/world.ipynb\" target=\"_parent\"><img src=\"https://colab.research.google.com/assets/colab-badge.svg\" alt=\"Open In Colab\"/></a>"
      ]
    },
    {
      "cell_type": "code",
      "metadata": {
        "colab": {
          "base_uri": "https://localhost:8080/"
        },
        "id": "EdntBCMXDWaL",
        "outputId": "9d6855b0-e1a6-44f9-f9a3-19d48498cf08"
      },
      "source": [
        "!pip install Faker"
      ],
      "execution_count": 1,
      "outputs": [
        {
          "output_type": "stream",
          "text": [
            "Collecting Faker\n",
            "\u001b[?25l  Downloading https://files.pythonhosted.org/packages/74/f4/bfe294cdf8487efa231c1bf12ea6700011c969fd94aebbd5ddafbf070866/Faker-6.4.1-py3-none-any.whl (1.1MB)\n",
            "\r\u001b[K     |▎                               | 10kB 14.2MB/s eta 0:00:01\r\u001b[K     |▋                               | 20kB 10.9MB/s eta 0:00:01\r\u001b[K     |▉                               | 30kB 7.8MB/s eta 0:00:01\r\u001b[K     |█▏                              | 40kB 7.3MB/s eta 0:00:01\r\u001b[K     |█▌                              | 51kB 4.4MB/s eta 0:00:01\r\u001b[K     |█▊                              | 61kB 5.1MB/s eta 0:00:01\r\u001b[K     |██                              | 71kB 5.1MB/s eta 0:00:01\r\u001b[K     |██▍                             | 81kB 5.1MB/s eta 0:00:01\r\u001b[K     |██▋                             | 92kB 5.1MB/s eta 0:00:01\r\u001b[K     |███                             | 102kB 5.6MB/s eta 0:00:01\r\u001b[K     |███▏                            | 112kB 5.6MB/s eta 0:00:01\r\u001b[K     |███▌                            | 122kB 5.6MB/s eta 0:00:01\r\u001b[K     |███▉                            | 133kB 5.6MB/s eta 0:00:01\r\u001b[K     |████                            | 143kB 5.6MB/s eta 0:00:01\r\u001b[K     |████▍                           | 153kB 5.6MB/s eta 0:00:01\r\u001b[K     |████▊                           | 163kB 5.6MB/s eta 0:00:01\r\u001b[K     |█████                           | 174kB 5.6MB/s eta 0:00:01\r\u001b[K     |█████▎                          | 184kB 5.6MB/s eta 0:00:01\r\u001b[K     |█████▋                          | 194kB 5.6MB/s eta 0:00:01\r\u001b[K     |█████▉                          | 204kB 5.6MB/s eta 0:00:01\r\u001b[K     |██████▏                         | 215kB 5.6MB/s eta 0:00:01\r\u001b[K     |██████▍                         | 225kB 5.6MB/s eta 0:00:01\r\u001b[K     |██████▊                         | 235kB 5.6MB/s eta 0:00:01\r\u001b[K     |███████                         | 245kB 5.6MB/s eta 0:00:01\r\u001b[K     |███████▎                        | 256kB 5.6MB/s eta 0:00:01\r\u001b[K     |███████▋                        | 266kB 5.6MB/s eta 0:00:01\r\u001b[K     |████████                        | 276kB 5.6MB/s eta 0:00:01\r\u001b[K     |████████▏                       | 286kB 5.6MB/s eta 0:00:01\r\u001b[K     |████████▌                       | 296kB 5.6MB/s eta 0:00:01\r\u001b[K     |████████▊                       | 307kB 5.6MB/s eta 0:00:01\r\u001b[K     |█████████                       | 317kB 5.6MB/s eta 0:00:01\r\u001b[K     |█████████▍                      | 327kB 5.6MB/s eta 0:00:01\r\u001b[K     |█████████▋                      | 337kB 5.6MB/s eta 0:00:01\r\u001b[K     |██████████                      | 348kB 5.6MB/s eta 0:00:01\r\u001b[K     |██████████▎                     | 358kB 5.6MB/s eta 0:00:01\r\u001b[K     |██████████▌                     | 368kB 5.6MB/s eta 0:00:01\r\u001b[K     |██████████▉                     | 378kB 5.6MB/s eta 0:00:01\r\u001b[K     |███████████▏                    | 389kB 5.6MB/s eta 0:00:01\r\u001b[K     |███████████▍                    | 399kB 5.6MB/s eta 0:00:01\r\u001b[K     |███████████▊                    | 409kB 5.6MB/s eta 0:00:01\r\u001b[K     |████████████                    | 419kB 5.6MB/s eta 0:00:01\r\u001b[K     |████████████▎                   | 430kB 5.6MB/s eta 0:00:01\r\u001b[K     |████████████▋                   | 440kB 5.6MB/s eta 0:00:01\r\u001b[K     |████████████▉                   | 450kB 5.6MB/s eta 0:00:01\r\u001b[K     |█████████████▏                  | 460kB 5.6MB/s eta 0:00:01\r\u001b[K     |█████████████▌                  | 471kB 5.6MB/s eta 0:00:01\r\u001b[K     |█████████████▊                  | 481kB 5.6MB/s eta 0:00:01\r\u001b[K     |██████████████                  | 491kB 5.6MB/s eta 0:00:01\r\u001b[K     |██████████████▎                 | 501kB 5.6MB/s eta 0:00:01\r\u001b[K     |██████████████▋                 | 512kB 5.6MB/s eta 0:00:01\r\u001b[K     |███████████████                 | 522kB 5.6MB/s eta 0:00:01\r\u001b[K     |███████████████▏                | 532kB 5.6MB/s eta 0:00:01\r\u001b[K     |███████████████▌                | 542kB 5.6MB/s eta 0:00:01\r\u001b[K     |███████████████▉                | 552kB 5.6MB/s eta 0:00:01\r\u001b[K     |████████████████                | 563kB 5.6MB/s eta 0:00:01\r\u001b[K     |████████████████▍               | 573kB 5.6MB/s eta 0:00:01\r\u001b[K     |████████████████▊               | 583kB 5.6MB/s eta 0:00:01\r\u001b[K     |█████████████████               | 593kB 5.6MB/s eta 0:00:01\r\u001b[K     |█████████████████▎              | 604kB 5.6MB/s eta 0:00:01\r\u001b[K     |█████████████████▌              | 614kB 5.6MB/s eta 0:00:01\r\u001b[K     |█████████████████▉              | 624kB 5.6MB/s eta 0:00:01\r\u001b[K     |██████████████████▏             | 634kB 5.6MB/s eta 0:00:01\r\u001b[K     |██████████████████▍             | 645kB 5.6MB/s eta 0:00:01\r\u001b[K     |██████████████████▊             | 655kB 5.6MB/s eta 0:00:01\r\u001b[K     |███████████████████             | 665kB 5.6MB/s eta 0:00:01\r\u001b[K     |███████████████████▎            | 675kB 5.6MB/s eta 0:00:01\r\u001b[K     |███████████████████▋            | 686kB 5.6MB/s eta 0:00:01\r\u001b[K     |███████████████████▉            | 696kB 5.6MB/s eta 0:00:01\r\u001b[K     |████████████████████▏           | 706kB 5.6MB/s eta 0:00:01\r\u001b[K     |████████████████████▌           | 716kB 5.6MB/s eta 0:00:01\r\u001b[K     |████████████████████▊           | 727kB 5.6MB/s eta 0:00:01\r\u001b[K     |█████████████████████           | 737kB 5.6MB/s eta 0:00:01\r\u001b[K     |█████████████████████▍          | 747kB 5.6MB/s eta 0:00:01\r\u001b[K     |█████████████████████▋          | 757kB 5.6MB/s eta 0:00:01\r\u001b[K     |██████████████████████          | 768kB 5.6MB/s eta 0:00:01\r\u001b[K     |██████████████████████▎         | 778kB 5.6MB/s eta 0:00:01\r\u001b[K     |██████████████████████▌         | 788kB 5.6MB/s eta 0:00:01\r\u001b[K     |██████████████████████▉         | 798kB 5.6MB/s eta 0:00:01\r\u001b[K     |███████████████████████         | 808kB 5.6MB/s eta 0:00:01\r\u001b[K     |███████████████████████▍        | 819kB 5.6MB/s eta 0:00:01\r\u001b[K     |███████████████████████▊        | 829kB 5.6MB/s eta 0:00:01\r\u001b[K     |████████████████████████        | 839kB 5.6MB/s eta 0:00:01\r\u001b[K     |████████████████████████▎       | 849kB 5.6MB/s eta 0:00:01\r\u001b[K     |████████████████████████▋       | 860kB 5.6MB/s eta 0:00:01\r\u001b[K     |████████████████████████▉       | 870kB 5.6MB/s eta 0:00:01\r\u001b[K     |█████████████████████████▏      | 880kB 5.6MB/s eta 0:00:01\r\u001b[K     |█████████████████████████▍      | 890kB 5.6MB/s eta 0:00:01\r\u001b[K     |█████████████████████████▊      | 901kB 5.6MB/s eta 0:00:01\r\u001b[K     |██████████████████████████      | 911kB 5.6MB/s eta 0:00:01\r\u001b[K     |██████████████████████████▎     | 921kB 5.6MB/s eta 0:00:01\r\u001b[K     |██████████████████████████▋     | 931kB 5.6MB/s eta 0:00:01\r\u001b[K     |███████████████████████████     | 942kB 5.6MB/s eta 0:00:01\r\u001b[K     |███████████████████████████▏    | 952kB 5.6MB/s eta 0:00:01\r\u001b[K     |███████████████████████████▌    | 962kB 5.6MB/s eta 0:00:01\r\u001b[K     |███████████████████████████▉    | 972kB 5.6MB/s eta 0:00:01\r\u001b[K     |████████████████████████████    | 983kB 5.6MB/s eta 0:00:01\r\u001b[K     |████████████████████████████▍   | 993kB 5.6MB/s eta 0:00:01\r\u001b[K     |████████████████████████████▋   | 1.0MB 5.6MB/s eta 0:00:01\r\u001b[K     |█████████████████████████████   | 1.0MB 5.6MB/s eta 0:00:01\r\u001b[K     |█████████████████████████████▎  | 1.0MB 5.6MB/s eta 0:00:01\r\u001b[K     |█████████████████████████████▌  | 1.0MB 5.6MB/s eta 0:00:01\r\u001b[K     |█████████████████████████████▉  | 1.0MB 5.6MB/s eta 0:00:01\r\u001b[K     |██████████████████████████████▏ | 1.1MB 5.6MB/s eta 0:00:01\r\u001b[K     |██████████████████████████████▍ | 1.1MB 5.6MB/s eta 0:00:01\r\u001b[K     |██████████████████████████████▊ | 1.1MB 5.6MB/s eta 0:00:01\r\u001b[K     |███████████████████████████████ | 1.1MB 5.6MB/s eta 0:00:01\r\u001b[K     |███████████████████████████████▎| 1.1MB 5.6MB/s eta 0:00:01\r\u001b[K     |███████████████████████████████▋| 1.1MB 5.6MB/s eta 0:00:01\r\u001b[K     |███████████████████████████████▉| 1.1MB 5.6MB/s eta 0:00:01\r\u001b[K     |████████████████████████████████| 1.1MB 5.6MB/s \n",
            "\u001b[?25hRequirement already satisfied: python-dateutil>=2.4 in /usr/local/lib/python3.7/dist-packages (from Faker) (2.8.1)\n",
            "Requirement already satisfied: text-unidecode==1.3 in /usr/local/lib/python3.7/dist-packages (from Faker) (1.3)\n",
            "Requirement already satisfied: six>=1.5 in /usr/local/lib/python3.7/dist-packages (from python-dateutil>=2.4->Faker) (1.15.0)\n",
            "Installing collected packages: Faker\n",
            "Successfully installed Faker-6.4.1\n"
          ],
          "name": "stdout"
        }
      ]
    },
    {
      "cell_type": "code",
      "metadata": {
        "id": "_8sqc25vDe6u"
      },
      "source": [
        "from faker import Faker\n",
        "import random\n",
        "import datetime\n",
        "from itertools import filterfalse\n"
      ],
      "execution_count": 145,
      "outputs": []
    },
    {
      "cell_type": "code",
      "metadata": {
        "id": "yf3C_Ayta9qc"
      },
      "source": [
        "class Location:\n",
        "\n",
        "  def __init__(self, map_size=100):\n",
        "    self.coordinates =  [random.uniform(-map_size, map_size), random.uniform(-map_size, map_size)] "
      ],
      "execution_count": 94,
      "outputs": []
    },
    {
      "cell_type": "code",
      "metadata": {
        "id": "DvRbAeNBBbhY"
      },
      "source": [
        "class Person:\n",
        "  fake = Faker()\n",
        "\n",
        "  def __init__(self, world):\n",
        "\n",
        "    self.world = world\n",
        "    self.gender = random.choices(['M', 'F'])\n",
        "    self.first_name = fake.first_name_female() if self.gender == 'F' else fake.first_name_male()\n",
        "    self.last_name = fake.last_name()\n",
        "    self.birthday = self.world.date\n",
        "    self.location = Location()\n",
        "    self.velocity = 10\n",
        "\n",
        "  def move(self):\n",
        "    move_dir = (random.uniform(-self.velocity, self.velocity), random.uniform(-self.velocity, self.velocity))\n",
        "    self.location.coordinates = [sum(x) for x in zip(self.location.coordinates,move_dir)]\n",
        "\n",
        "  def simulate_day(self):\n",
        "    self.move()\n"
      ],
      "execution_count": 158,
      "outputs": []
    },
    {
      "cell_type": "code",
      "metadata": {
        "id": "r1ZkuJmygRqy"
      },
      "source": [
        "class Food:\n",
        "\n",
        "  def __init__(self, world):\n",
        "    self.world = world\n",
        "    self.location = Location()\n",
        "    self.produce_date = self.world.date"
      ],
      "execution_count": 159,
      "outputs": []
    },
    {
      "cell_type": "code",
      "metadata": {
        "id": "Pt_v8w9kGMgQ"
      },
      "source": [
        "class World:\n",
        "\n",
        "  def __init__(self, name):\n",
        "    self.name = name\n",
        "    self.persons = []\n",
        "    self.date = datetime.datetime(2018, 6, 1)\n",
        "    self.foods = []\n",
        "\n",
        "  def simulate_day(self):\n",
        "    self.date += datetime.timedelta(days=1)\n",
        "    new_person = Person(world=self)\n",
        "\n",
        "    self.persons.append(new_person)\n",
        "\n",
        "    for i in range(10):\n",
        "      self.foods.append(Food(self))\n",
        "    self.foods[:] = filterfalse(lambda f: (world.date - f.produce_date).days >5, self.foods)\n",
        "\n",
        "    \n",
        "    \n",
        "    \n",
        "\n",
        "  def simulate(self, until=100):\n",
        "    for i in range(until):\n",
        "      self.simulate_day()\n"
      ],
      "execution_count": 161,
      "outputs": []
    },
    {
      "cell_type": "code",
      "metadata": {
        "id": "ifC4dJwPzFNT"
      },
      "source": [
        "world = World('mahdi_world')\n",
        "world.simulate()"
      ],
      "execution_count": 162,
      "outputs": []
    }
  ]
}